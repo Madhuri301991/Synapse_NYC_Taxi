{
  "nbformat": 4,
  "nbformat_minor": 2,
  "metadata": {
    "kernelspec": {
      "name": "synapse_pyspark",
      "display_name": "Synapse PySpark"
    },
    "language_info": {
      "name": "python"
    },
    "save_output": true,
    "synapse_widget": {
      "version": "0.1",
      "state": {
        "acd37fa8-eb37-4f4a-b7f4-b99eef8c5698": {
          "type": "Synapse.DataFrame",
          "sync_state": {
            "table": {
              "rows": [
                {
                  "0": "4J55ANX3hvMBAAAAAAAAAA==",
                  "1": "1674156560",
                  "2": "driver-000001",
                  "3": "true",
                  "4": "10.02",
                  "5": "22",
                  "6": "device-000001",
                  "7": "2022-05-16T01:25:43.511Z",
                  "8": {
                    "latitude": 40.7831,
                    "longitude": 73.9712
                  },
                  "9": {
                    "latitude": 40.7931,
                    "longitude": 73.9512
                  },
                  "10": "ccee49da-9212-4b24-8694-0f03f904af3f",
                  "11": "\"0500ff44-0000-0100-0000-63c99a100000\""
                },
                {
                  "0": "4J55ANX3hvMCAAAAAAAAAA==",
                  "1": "1674156790",
                  "2": "driver-000002",
                  "3": "false",
                  "4": "0.0",
                  "5": "0",
                  "6": "device-000002",
                  "7": "2022-05-16T01:25:43.515Z",
                  "8": {
                    "latitude": 40.6782,
                    "longitude": 73.9442
                  },
                  "9": {
                    "latitude": 40.6731,
                    "longitude": 73.9502
                  },
                  "10": "f7b58c24-1da3-4d53-bc03-8b64457d2721",
                  "11": "\"05000045-0000-0100-0000-63c99af60000\""
                },
                {
                  "0": "4J55ANX3hvMEAAAAAAAAAA==",
                  "1": "1674163222",
                  "2": "driver-000004",
                  "3": "true",
                  "4": "2.01",
                  "5": "4",
                  "6": "device-000004",
                  "7": "2022-05-16T01:25:43.501Z",
                  "8": {
                    "latitude": 40.8448,
                    "longitude": 73.8648
                  },
                  "9": {
                    "latitude": 40.8431,
                    "longitude": 73.9122
                  },
                  "10": "03c7aeeb-74d6-48c4-ad32-b4d8aade5cd1",
                  "11": "\"07009423-0000-0100-0000-63c9b4160000\""
                },
                {
                  "0": "4J55ANX3hvMGAAAAAAAAAA==",
                  "1": "1674163285",
                  "2": "driver-000005",
                  "3": "true",
                  "4": "20.8",
                  "5": "54",
                  "6": "device-000005",
                  "7": "2022-05-16T01:25:43.519Z",
                  "8": {
                    "latitude": 40.7282,
                    "longitude": 73.7949
                  },
                  "9": {
                    "latitude": 40.7231,
                    "longitude": 73.9412
                  },
                  "10": "e50c9ba9-9a04-47e1-9ab2-f392c16f15ef",
                  "11": "\"07009623-0000-0100-0000-63c9b4550000\""
                }
              ],
              "schema": [
                {
                  "key": "0",
                  "name": "_rid",
                  "type": "string"
                },
                {
                  "key": "1",
                  "name": "_ts",
                  "type": "bigint"
                },
                {
                  "key": "2",
                  "name": "driverId",
                  "type": "string"
                },
                {
                  "key": "3",
                  "name": "hired",
                  "type": "boolean"
                },
                {
                  "key": "4",
                  "name": "distanceToDestination",
                  "type": "double"
                },
                {
                  "key": "5",
                  "name": "timeToDestinationMins",
                  "type": "bigint"
                },
                {
                  "key": "6",
                  "name": "deviceId",
                  "type": "string"
                },
                {
                  "key": "7",
                  "name": "deviceTimestamp",
                  "type": "string"
                },
                {
                  "key": "8",
                  "name": "DeviceLocation",
                  "type": "StructType(StructField(latitude,DoubleType,true), StructField(longitude,DoubleType,true))"
                },
                {
                  "key": "9",
                  "name": "DestinationLocation",
                  "type": "StructType(StructField(latitude,DoubleType,true), StructField(longitude,DoubleType,true))"
                },
                {
                  "key": "10",
                  "name": "id",
                  "type": "string"
                },
                {
                  "key": "11",
                  "name": "_etag",
                  "type": "string"
                }
              ],
              "truncated": false
            },
            "isSummary": false,
            "language": "scala"
          },
          "persist_state": {
            "view": {
              "type": "details",
              "tableOptions": {},
              "chartOptions": {
                "chartType": "bar",
                "aggregationType": "sum",
                "categoryFieldKeys": [
                  "0"
                ],
                "seriesFieldKeys": [
                  "1"
                ],
                "isStacked": false
              }
            }
          }
        }
      }
    }
  },
  "cells": [
    {
      "cell_type": "code",
      "execution_count": 2,
      "outputs": [
        {
          "output_type": "display_data",
          "data": {
            "application/vnd.livy.statement-meta+json": {
              "spark_pool": "coursepool",
              "session_id": "3",
              "statement_id": 2,
              "state": "finished",
              "livy_statement_state": "available",
              "queued_time": "2023-01-20T08:06:32.8509197Z",
              "session_start_time": null,
              "execution_start_time": "2023-01-20T08:06:32.9638584Z",
              "execution_finish_time": "2023-01-20T08:06:41.7133417Z",
              "spark_jobs": null
            },
            "text/plain": "StatementMeta(coursepool, 3, 2, Finished, Available)"
          },
          "metadata": {}
        },
        {
          "output_type": "display_data",
          "data": {
            "application/vnd.synapse.widget-view+json": {
              "widget_id": "acd37fa8-eb37-4f4a-b7f4-b99eef8c5698",
              "widget_type": "Synapse.DataFrame"
            },
            "text/plain": "SynapseWidget(Synapse.DataFrame, acd37fa8-eb37-4f4a-b7f4-b99eef8c5698)"
          },
          "metadata": {}
        }
      ],
      "metadata": {
        "collapsed": false
      },
      "source": [
        "# Read from Cosmos DB analytical store into a Spark DataFrame and display 10 rows from the DataFrame\n",
        "# To select a preferred list of regions in a multi-region Cosmos DB account, add .option(\"spark.cosmos.preferredRegions\", \"<Region1>,<Region2>\")\n",
        "\n",
        "df = spark.read\\\n",
        "    .format(\"cosmos.olap\")\\\n",
        "    .option(\"spark.synapse.linkedService\", \"ls_cosmos_db_nyc_taxi_data\")\\\n",
        "    .option(\"spark.cosmos.container\", \"Heartbeat\")\\\n",
        "    .load()\n",
        "\n",
        "display(df.limit(10))"
      ]
    }
  ]
}