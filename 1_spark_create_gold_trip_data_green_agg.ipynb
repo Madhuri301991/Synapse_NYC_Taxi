{
  "cells": [
    {
      "cell_type": "markdown",
      "source": [
        "## Trip Data Aggregation \n",
        "### Group By Columns\n",
        "1. year\n",
        "2. Month\n",
        "3. Pickup Location ID\n",
        "4. Drop Off Location ID\n",
        "\n",
        "### Aggregated Columns\n",
        "1. Total Trip Count\n",
        "2. Total Fare Amount\n",
        "\n",
        "### Purpose of the notebook\n",
        "\n",
        "Demonstrate the integration between Spark Pool and Serverless SQL Pool\n",
        "\n",
        "1. Create the aggregated table in Spark Pool\n",
        "2. Access the data from Serverless SQL Pool "
      ],
      "metadata": {
        "nteract": {
          "transient": {
            "deleting": false
          }
        }
      }
    },
    {
      "cell_type": "code",
      "source": [
        "#Set the folder paths so that it can be used later. \n",
        "bronze_folder_path = 'abfss://nyc-taxi-data@coursesynapsedatalake.dfs.core.windows.net/raw'\n",
        "silver_folder_path = 'abfss://nyc-taxi-data@coursesynapsedatalake.dfs.core.windows.net/silver'\n",
        "gold_folder_path = 'abfss://nyc-taxi-data@coursesynapsedatalake.dfs.core.windows.net/gold'"
      ],
      "outputs": [
        {
          "output_type": "display_data",
          "data": {
            "application/vnd.livy.statement-meta+json": {
              "spark_pool": "coursepool",
              "session_id": "0",
              "statement_id": 6,
              "state": "finished",
              "livy_statement_state": "available",
              "queued_time": "2023-01-19T07:28:04.7555945Z",
              "session_start_time": null,
              "execution_start_time": "2023-01-19T07:28:04.8821301Z",
              "execution_finish_time": "2023-01-19T07:28:05.0516788Z",
              "spark_jobs": null
            },
            "text/plain": "StatementMeta(coursepool, 0, 6, Finished, Available)"
          },
          "metadata": {}
        }
      ],
      "execution_count": 6,
      "metadata": {
        "jupyter": {
          "source_hidden": false,
          "outputs_hidden": false
        },
        "nteract": {
          "transient": {
            "deleting": false
          }
        }
      }
    },
    {
      "cell_type": "code",
      "source": [
        "#Set the spark config to be able to get the partitioned columns year and month as strings rather than integers\n",
        "spark.conf.set(\"spark.sql.sources.partitionColumnTypeInference.enabled\", \"false\")"
      ],
      "outputs": [
        {
          "output_type": "display_data",
          "data": {
            "application/vnd.livy.statement-meta+json": {
              "spark_pool": "coursepool",
              "session_id": "0",
              "statement_id": 7,
              "state": "finished",
              "livy_statement_state": "available",
              "queued_time": "2023-01-19T07:28:09.2143168Z",
              "session_start_time": null,
              "execution_start_time": "2023-01-19T07:28:09.3320754Z",
              "execution_finish_time": "2023-01-19T07:28:09.4956855Z",
              "spark_jobs": null
            },
            "text/plain": "StatementMeta(coursepool, 0, 7, Finished, Available)"
          },
          "metadata": {}
        }
      ],
      "execution_count": 7,
      "metadata": {
        "jupyter": {
          "source_hidden": false,
          "outputs_hidden": false
        },
        "nteract": {
          "transient": {
            "deleting": false
          }
        }
      }
    },
    {
      "cell_type": "code",
      "source": [
        "%%sql\n",
        "\n",
        "-- Create database to which we are going to write the data\n",
        "\n",
        "CREATE DATABASE IF NOT EXISTS nyc_taxi_ldw_spark\n",
        "LOCATION 'abfss://nyc-taxi-data@coursesynapsedatalake.dfs.core.windows.net/gold';"
      ],
      "outputs": [
        {
          "output_type": "display_data",
          "data": {
            "application/vnd.livy.statement-meta+json": {
              "spark_pool": "coursepool",
              "session_id": "0",
              "statement_id": 15,
              "state": "finished",
              "livy_statement_state": "available",
              "queued_time": "2023-01-19T07:39:13.1524605Z",
              "session_start_time": null,
              "execution_start_time": "2023-01-19T07:39:13.2832528Z",
              "execution_finish_time": "2023-01-19T07:39:14.3538124Z",
              "spark_jobs": null
            },
            "text/plain": "StatementMeta(coursepool, 0, 15, Finished, Available)"
          },
          "metadata": {}
        },
        {
          "output_type": "execute_result",
          "execution_count": 14,
          "data": {
            "application/vnd.synapse.sparksql-result+json": {
              "schema": {
                "type": "struct",
                "fields": []
              },
              "data": []
            },
            "text/plain": "<Spark SQL result set with 0 rows and 0 fields>"
          },
          "metadata": {}
        }
      ],
      "execution_count": 14,
      "metadata": {
        "jupyter": {
          "source_hidden": false,
          "outputs_hidden": false
        },
        "nteract": {
          "transient": {
            "deleting": false
          }
        },
        "microsoft": {
          "language": "sparksql"
        },
        "collapsed": false
      }
    },
    {
      "cell_type": "code",
      "source": [
        "# Read the silver data to be processed. \n",
        "trip_data_green_df = spark.read.parquet(f\"{silver_folder_path}/trip_data_green\") "
      ],
      "outputs": [
        {
          "output_type": "display_data",
          "data": {
            "application/vnd.livy.statement-meta+json": {
              "spark_pool": "coursepool",
              "session_id": "0",
              "statement_id": 9,
              "state": "finished",
              "livy_statement_state": "available",
              "queued_time": "2023-01-19T07:28:25.0352314Z",
              "session_start_time": null,
              "execution_start_time": "2023-01-19T07:28:25.1494206Z",
              "execution_finish_time": "2023-01-19T07:28:39.8958982Z",
              "spark_jobs": null
            },
            "text/plain": "StatementMeta(coursepool, 0, 9, Finished, Available)"
          },
          "metadata": {}
        }
      ],
      "execution_count": 9,
      "metadata": {
        "jupyter": {
          "source_hidden": false,
          "outputs_hidden": false
        },
        "nteract": {
          "transient": {
            "deleting": false
          }
        }
      }
    },
    {
      "cell_type": "code",
      "source": [
        "# Perform the required aggregations\n",
        "# 1. Total trip count\n",
        "# 2. Total fare amount\n",
        "from pyspark.sql.functions import *\n",
        "\n",
        "trip_data_green_agg_df = trip_data_green_df \\\n",
        "                        .groupBy(\"year\", \"month\", \"pu_location_id\", \"do_location_id\") \\\n",
        "                        .agg(count(lit(1)).alias(\"total_trip_count\"),\n",
        "                        round(sum(\"fare_amount\"), 2).alias(\"total_fare_amount\"))"
      ],
      "outputs": [
        {
          "output_type": "display_data",
          "data": {
            "application/vnd.livy.statement-meta+json": {
              "spark_pool": "coursepool",
              "session_id": "0",
              "statement_id": 13,
              "state": "finished",
              "livy_statement_state": "available",
              "queued_time": "2023-01-19T07:30:47.6215919Z",
              "session_start_time": null,
              "execution_start_time": "2023-01-19T07:30:47.7599402Z",
              "execution_finish_time": "2023-01-19T07:30:48.2983966Z",
              "spark_jobs": null
            },
            "text/plain": "StatementMeta(coursepool, 0, 13, Finished, Available)"
          },
          "metadata": {}
        }
      ],
      "execution_count": 12,
      "metadata": {
        "jupyter": {
          "source_hidden": false,
          "outputs_hidden": false
        },
        "nteract": {
          "transient": {
            "deleting": false
          }
        }
      }
    },
    {
      "cell_type": "code",
      "source": [
        "# Write the aggregated data to the gold table for consumption\n",
        "\n",
        "trip_data_green_agg_df.write.mode(\"overwrite\").partitionBy(\"year\", \"month\").format(\"parquet\").saveAsTable(\"nyc_taxi_ldw_spark.trip_data_green_agg\")"
      ],
      "outputs": [
        {
          "output_type": "display_data",
          "data": {
            "application/vnd.livy.statement-meta+json": {
              "spark_pool": "coursepool",
              "session_id": "0",
              "statement_id": 14,
              "state": "finished",
              "livy_statement_state": "available",
              "queued_time": "2023-01-19T07:31:18.375289Z",
              "session_start_time": null,
              "execution_start_time": "2023-01-19T07:31:18.4993677Z",
              "execution_finish_time": "2023-01-19T07:32:59.8101112Z",
              "spark_jobs": null
            },
            "text/plain": "StatementMeta(coursepool, 0, 14, Finished, Available)"
          },
          "metadata": {}
        }
      ],
      "execution_count": 13,
      "metadata": {
        "jupyter": {
          "source_hidden": false,
          "outputs_hidden": false
        },
        "nteract": {
          "transient": {
            "deleting": false
          }
        }
      }
    }
  ],
  "metadata": {
    "kernelspec": {
      "name": "synapse_pyspark",
      "language": "Python",
      "display_name": "Synapse PySpark"
    },
    "language_info": {
      "name": "python"
    },
    "kernel_info": {
      "name": "synapse_pyspark"
    },
    "description": null,
    "save_output": true,
    "synapse_widget": {
      "version": "0.1",
      "state": {}
    }
  },
  "nbformat": 4,
  "nbformat_minor": 2
}